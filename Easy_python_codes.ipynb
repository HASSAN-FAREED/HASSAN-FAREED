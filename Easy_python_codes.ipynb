{
  "nbformat": 4,
  "nbformat_minor": 0,
  "metadata": {
    "colab": {
      "name": "Easy python codes.ipynb",
      "provenance": [],
      "authorship_tag": "ABX9TyOP1+KYFpK7h4UtDMlskVwR",
      "include_colab_link": true
    },
    "kernelspec": {
      "name": "python3",
      "display_name": "Python 3"
    },
    "language_info": {
      "name": "python"
    }
  },
  "cells": [
    {
      "cell_type": "markdown",
      "metadata": {
        "id": "view-in-github",
        "colab_type": "text"
      },
      "source": [
        "<a href=\"https://colab.research.google.com/github/HASSAN-FAREED/HASSAN-FAREED/blob/main/Easy_python_codes.ipynb\" target=\"_parent\"><img src=\"https://colab.research.google.com/assets/colab-badge.svg\" alt=\"Open In Colab\"/></a>"
      ]
    },
    {
      "cell_type": "code",
      "metadata": {
        "id": "-wM2_477Ulji"
      },
      "source": [
        "a,b = input().split()\n",
        "a,b = b,a\n",
        "print(a,b)"
      ],
      "execution_count": null,
      "outputs": []
    },
    {
      "cell_type": "code",
      "metadata": {
        "id": "uinvR4sXWbNh"
      },
      "source": [
        "print('\\n'.join('Fizz' * (i%3==0) + 'buzz' *(i%5==0) or str(i) for i in range(1,int(input()))))"
      ],
      "execution_count": null,
      "outputs": []
    },
    {
      "cell_type": "code",
      "metadata": {
        "id": "WmVBhDTEamsk"
      },
      "source": [
        "a = input()\n",
        "if a == a[::-1]:\n",
        "  print(\"Its palindrome\")\n",
        "else:\n",
        "  print(\"Not palindrome\")"
      ],
      "execution_count": null,
      "outputs": []
    }
  ]
}